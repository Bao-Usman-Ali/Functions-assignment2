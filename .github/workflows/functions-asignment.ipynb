{
 "cells": [
  {
   "cell_type": "code",
   "execution_count": 1,
   "metadata": {},
   "outputs": [],
   "source": [
    "def calArea():\n",
    "    pi = 3.14\n",
    "    r1= 8.7\n",
    "    r2 = 9.2\n",
    "    r3 = 16.03\n",
    "    area1 = pi * (r1**2)\n",
    "    area2 = pi * (r2**2)\n",
    "    area3 = pi * (r3**2)\n",
    "    print(\"the area of circle is:\",area1)\n",
    "    print(\"the area of circle is:\",area2)\n",
    "    print(\"the area of circleis:\",area3)"
   ]
  },
  {
   "cell_type": "code",
   "execution_count": 2,
   "metadata": {},
   "outputs": [
    {
     "name": "stdout",
     "output_type": "stream",
     "text": [
      "the area of circle is: 237.66659999999996\n",
      "the area of circle is: 265.76959999999997\n",
      "the area of circleis: 806.8572260000002\n"
     ]
    }
   ],
   "source": [
    "calArea()"
   ]
  },
  {
   "cell_type": "code",
   "execution_count": 3,
   "metadata": {},
   "outputs": [],
   "source": [
    "\n",
    "def checkValue():\n",
    "    data = [\"python\", \"r\", \"java\", \"pascal\", \"c\", \"javascript\", \"assembley\", \"html\", \"c++\"]\n",
    "    for i in data:\n",
    "        if(\"python\" == i or \"html\" == i or \"c\" == i):\n",
    "            print(i)\n",
    "        "
   ]
  },
  {
   "cell_type": "code",
   "execution_count": 4,
   "metadata": {},
   "outputs": [
    {
     "name": "stdout",
     "output_type": "stream",
     "text": [
      "python\n",
      "c\n",
      "html\n"
     ]
    }
   ],
   "source": [
    "checkValue()"
   ]
  },
  {
   "cell_type": "code",
   "execution_count": 5,
   "metadata": {},
   "outputs": [
    {
     "data": {
      "text/plain": [
       "['assembley',\n",
       " 'html',\n",
       " 'c++',\n",
       " 'python',\n",
       " 'r',\n",
       " 'java',\n",
       " 'pascal',\n",
       " 'c',\n",
       " 'javascript']"
      ]
     },
     "execution_count": 5,
     "metadata": {},
     "output_type": "execute_result"
    }
   ],
   "source": [
    "data = [\"python\", \"r\", \"java\", \"pascal\", \"c\", \"javascript\", \"assembley\", \"html\", \"c++\"]\n",
    "def shift(lst, shft=0):\n",
    "    lst = [\"python\", \"r\", \"java\", \"pascal\", \"c\", \"javascript\", \"assembley\", \"html\", \"c++\"]\n",
    "    ln = len(lst)\n",
    "    for i, ele in enumerate(lst[:]):\n",
    "        lst[(i + shft) % ln] = ele\n",
    "    return lst\n",
    "\n",
    "shift(data,3)\n",
    "\n",
    "\n"
   ]
  },
  {
   "cell_type": "code",
   "execution_count": 6,
   "metadata": {},
   "outputs": [],
   "source": [
    "def calArea2():\n",
    "    radius = float(input(\"enter radius of circle\"))\n",
    "    while radius != 0:\n",
    "        break\n",
    "    pi = 3.14\n",
    "    area = pi * (radius**2)\n",
    "    print(area)\n",
    "                "
   ]
  },
  {
   "cell_type": "code",
   "execution_count": 7,
   "metadata": {},
   "outputs": [
    {
     "name": "stdout",
     "output_type": "stream",
     "text": [
      "enter radius of circle3\n",
      "28.26\n"
     ]
    }
   ],
   "source": [
    "calArea2()"
   ]
  },
  {
   "cell_type": "code",
   "execution_count": null,
   "metadata": {},
   "outputs": [],
   "source": []
  }
 ],
 "metadata": {
  "kernelspec": {
   "display_name": "Python 3",
   "language": "python",
   "name": "python3"
  },
  "language_info": {
   "codemirror_mode": {
    "name": "ipython",
    "version": 3
   },
   "file_extension": ".py",
   "mimetype": "text/x-python",
   "name": "python",
   "nbconvert_exporter": "python",
   "pygments_lexer": "ipython3",
   "version": "3.7.3"
  }
 },
 "nbformat": 4,
 "nbformat_minor": 2
}
